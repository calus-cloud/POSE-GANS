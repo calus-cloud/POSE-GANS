{
 "cells": [
  {
   "cell_type": "markdown",
   "id": "fffea103",
   "metadata": {},
   "source": [
    "## Human Pose Generation through Deformable GANs\n",
    "- by Siarohin et al."
   ]
  },
  {
   "cell_type": "code",
   "execution_count": null,
   "id": "6564d5f6",
   "metadata": {},
   "outputs": [],
   "source": [
    "import os\n",
    "import torch\n",
    "from torch.utils.data import DataLoader\n",
    "\n",
    "# your modules\n",
    "from dataset import MarketPoseDataset\n",
    "from model.generator import DeformableGenerator\n",
    "from model.discriminator import PatchDiscriminator\n",
    "from train import train_model\n",
    "from infer import infer_model\n",
    "from evaluate import evaluate_model\n",
    "from utils.visualization import tensor_to_image, save_comparison_grid\n",
    "from utils.checkpoints import load_checkpoint, load_models_from_checkpoint"
   ]
  },
  {
   "cell_type": "code",
   "execution_count": 2,
   "id": "8c115db1",
   "metadata": {},
   "outputs": [
    {
     "name": "stdout",
     "output_type": "stream",
     "text": [
      "Using device: cuda\n"
     ]
    }
   ],
   "source": [
    "# Check device\n",
    "device = torch.device(\"cuda\" if torch.cuda.is_available() else \"cpu\")\n",
    "print(\"Using device:\", device)"
   ]
  },
  {
   "cell_type": "code",
   "execution_count": 3,
   "id": "34a86bd4",
   "metadata": {},
   "outputs": [],
   "source": [
    "# ===== Cell 2: Configuration & Hyperparameters =====\n",
    "\n",
    "# Data paths\n",
    "images_dir = \"data/1/Market-1501-v15.09.15/bounding_box_train\"\n",
    "pose_maps_dir = \"data/processed/pose_maps\"\n",
    "train_pairs = \"data/splits/train_pairs.csv\"\n",
    "val_pairs = \"data/splits/val_pairs.csv\"\n",
    "test_pairs = val_pairs  # or a separate test set\n",
    "\n",
    "# Training hyperparams\n",
    "batch_size = 16\n",
    "num_epochs = 20\n",
    "lr = 2e-4\n",
    "betas = (0.5, 0.999)\n",
    "lambda_nn = 1.0\n",
    "lambda_perceptual = 0.1\n",
    "lambda_offset = 0.1\n",
    "use_perceptual = True\n",
    "\n",
    "# Output dirs\n",
    "ckpt_dir = \"outputs/ckpts\"\n",
    "sample_dir = \"outputs/samples\"\n",
    "infer_out_dir = \"outputs/infer\"\n",
    "\n",
    "os.makedirs(ckpt_dir, exist_ok=True)\n",
    "os.makedirs(sample_dir, exist_ok=True)\n",
    "os.makedirs(infer_out_dir, exist_ok=True)"
   ]
  },
  {
   "cell_type": "code",
   "execution_count": null,
   "id": "e8c9f1de",
   "metadata": {},
   "outputs": [],
   "source": [
    "from torch.utils.data import Subset\n",
    "import numpy as np\n",
    "\n",
    "train_ds = MarketPoseDataset(images_dir, pose_maps_dir, train_pairs)\n",
    "val_ds = MarketPoseDataset(images_dir, pose_maps_dir, val_pairs)\n",
    "test_ds = MarketPoseDataset(images_dir, pose_maps_dir, test_pairs)\n",
    "\n",
    "# Assuming train_dataset and val_dataset are already created\n",
    "reduce_factor = 0.25  # use 25% of training data\n",
    "\n",
    "num_train = len(train_ds)\n",
    "num_val = len(val_ds)\n",
    "\n",
    "subset_train_indices = np.random.choice(num_train, int(num_train * reduce_factor), replace=False)\n",
    "subset_val_indices = np.random.choice(num_val, int(num_val * reduce_factor), replace=False)\n",
    "\n",
    "train_dataset_small = Subset(train_ds, subset_train_indices)\n",
    "val_dataset_small = Subset(val_ds, subset_val_indices)\n",
    "\n",
    "\n",
    "train_loader = DataLoader(train_dataset_small, batch_size=batch_size, shuffle=True, num_workers=4)\n",
    "val_loader = DataLoader(val_dataset_small, batch_size=batch_size, shuffle=False, num_workers=4)\n",
    "test_loader = DataLoader(test_ds, batch_size=batch_size, shuffle=False, num_workers=4)\n",
    "\n",
    "print(f\"Train set size: {len(train_ds)}, Val set size: {len(val_ds)}, Test set size: {len(test_ds)}\")"
   ]
  },
  {
   "cell_type": "code",
   "execution_count": 5,
   "id": "bdea8db9",
   "metadata": {},
   "outputs": [
    {
     "name": "stdout",
     "output_type": "stream",
     "text": [
      "DeformableGenerator(\n",
      "  (enc1): DownsampleBlock(\n",
      "    (conv): ConvBlock(\n",
      "      (main): Sequential(\n",
      "        (0): Conv2d(3, 64, kernel_size=(4, 4), stride=(2, 2), padding=(1, 1), bias=False)\n",
      "        (1): ReLU(inplace=True)\n",
      "      )\n",
      "    )\n",
      "  )\n",
      "  (enc2): DownsampleBlock(\n",
      "    (conv): ConvBlock(\n",
      "      (main): Sequential(\n",
      "        (0): Conv2d(64, 128, kernel_size=(4, 4), stride=(2, 2), padding=(1, 1), bias=False)\n",
      "        (1): InstanceNorm2d(128, eps=1e-05, momentum=0.1, affine=False, track_running_stats=False)\n",
      "        (2): ReLU(inplace=True)\n",
      "      )\n",
      "    )\n",
      "  )\n",
      "  (enc3): DownsampleBlock(\n",
      "    (conv): ConvBlock(\n",
      "      (main): Sequential(\n",
      "        (0): Conv2d(128, 256, kernel_size=(4, 4), stride=(2, 2), padding=(1, 1), bias=False)\n",
      "        (1): InstanceNorm2d(256, eps=1e-05, momentum=0.1, affine=False, track_running_stats=False)\n",
      "        (2): ReLU(inplace=True)\n",
      "      )\n",
      "    )\n",
      "  )\n",
      "  (enc4): DownsampleBlock(\n",
      "    (conv): ConvBlock(\n",
      "      (main): Sequential(\n",
      "        (0): Conv2d(256, 512, kernel_size=(4, 4), stride=(2, 2), padding=(1, 1), bias=False)\n",
      "        (1): InstanceNorm2d(512, eps=1e-05, momentum=0.1, affine=False, track_running_stats=False)\n",
      "        (2): ReLU(inplace=True)\n",
      "      )\n",
      "    )\n",
      "  )\n",
      "  (res_blocks): Sequential(\n",
      "    (0): ResidualBlock(\n",
      "      (conv1): ConvBlock(\n",
      "        (main): Sequential(\n",
      "          (0): Conv2d(512, 512, kernel_size=(3, 3), stride=(1, 1), padding=(1, 1), bias=False)\n",
      "          (1): InstanceNorm2d(512, eps=1e-05, momentum=0.1, affine=False, track_running_stats=False)\n",
      "          (2): ReLU(inplace=True)\n",
      "        )\n",
      "      )\n",
      "      (conv2): ConvBlock(\n",
      "        (main): Sequential(\n",
      "          (0): Conv2d(512, 512, kernel_size=(3, 3), stride=(1, 1), padding=(1, 1), bias=False)\n",
      "          (1): InstanceNorm2d(512, eps=1e-05, momentum=0.1, affine=False, track_running_stats=False)\n",
      "        )\n",
      "      )\n",
      "      (act): ReLU(inplace=True)\n",
      "    )\n",
      "    (1): ResidualBlock(\n",
      "      (conv1): ConvBlock(\n",
      "        (main): Sequential(\n",
      "          (0): Conv2d(512, 512, kernel_size=(3, 3), stride=(1, 1), padding=(1, 1), bias=False)\n",
      "          (1): InstanceNorm2d(512, eps=1e-05, momentum=0.1, affine=False, track_running_stats=False)\n",
      "          (2): ReLU(inplace=True)\n",
      "        )\n",
      "      )\n",
      "      (conv2): ConvBlock(\n",
      "        (main): Sequential(\n",
      "          (0): Conv2d(512, 512, kernel_size=(3, 3), stride=(1, 1), padding=(1, 1), bias=False)\n",
      "          (1): InstanceNorm2d(512, eps=1e-05, momentum=0.1, affine=False, track_running_stats=False)\n",
      "        )\n",
      "      )\n",
      "      (act): ReLU(inplace=True)\n",
      "    )\n",
      "  )\n",
      "  (deform_skips): MultiScaleDeformSkip(\n",
      "    (deform_skips): ModuleList(\n",
      "      (0): DeformableSkipConnection(\n",
      "        (offset_net): Sequential(\n",
      "          (0): Conv2d(98, 64, kernel_size=(3, 3), stride=(1, 1), padding=(1, 1))\n",
      "          (1): ReLU(inplace=True)\n",
      "          (2): Conv2d(64, 2, kernel_size=(3, 3), stride=(1, 1), padding=(1, 1))\n",
      "        )\n",
      "      )\n",
      "      (1): DeformableSkipConnection(\n",
      "        (offset_net): Sequential(\n",
      "          (0): Conv2d(162, 64, kernel_size=(3, 3), stride=(1, 1), padding=(1, 1))\n",
      "          (1): ReLU(inplace=True)\n",
      "          (2): Conv2d(64, 2, kernel_size=(3, 3), stride=(1, 1), padding=(1, 1))\n",
      "        )\n",
      "      )\n",
      "      (2): DeformableSkipConnection(\n",
      "        (offset_net): Sequential(\n",
      "          (0): Conv2d(290, 64, kernel_size=(3, 3), stride=(1, 1), padding=(1, 1))\n",
      "          (1): ReLU(inplace=True)\n",
      "          (2): Conv2d(64, 2, kernel_size=(3, 3), stride=(1, 1), padding=(1, 1))\n",
      "        )\n",
      "      )\n",
      "      (3): DeformableSkipConnection(\n",
      "        (offset_net): Sequential(\n",
      "          (0): Conv2d(546, 64, kernel_size=(3, 3), stride=(1, 1), padding=(1, 1))\n",
      "          (1): ReLU(inplace=True)\n",
      "          (2): Conv2d(64, 2, kernel_size=(3, 3), stride=(1, 1), padding=(1, 1))\n",
      "        )\n",
      "      )\n",
      "    )\n",
      "  )\n",
      "  (ups): ModuleList(\n",
      "    (0): UpsampleBlock(\n",
      "      (up): Sequential(\n",
      "        (0): Upsample(scale_factor=2.0, mode='bilinear')\n",
      "        (1): Conv2d(512, 256, kernel_size=(3, 3), stride=(1, 1), padding=(1, 1), bias=False)\n",
      "      )\n",
      "      (norm): InstanceNorm2d(256, eps=1e-05, momentum=0.1, affine=False, track_running_stats=False)\n",
      "      (activation): ReLU(inplace=True)\n",
      "    )\n",
      "    (1): UpsampleBlock(\n",
      "      (up): Sequential(\n",
      "        (0): Upsample(scale_factor=2.0, mode='bilinear')\n",
      "        (1): Conv2d(512, 128, kernel_size=(3, 3), stride=(1, 1), padding=(1, 1), bias=False)\n",
      "      )\n",
      "      (norm): InstanceNorm2d(128, eps=1e-05, momentum=0.1, affine=False, track_running_stats=False)\n",
      "      (activation): ReLU(inplace=True)\n",
      "    )\n",
      "    (2): UpsampleBlock(\n",
      "      (up): Sequential(\n",
      "        (0): Upsample(scale_factor=2.0, mode='bilinear')\n",
      "        (1): Conv2d(256, 64, kernel_size=(3, 3), stride=(1, 1), padding=(1, 1), bias=False)\n",
      "      )\n",
      "      (norm): InstanceNorm2d(64, eps=1e-05, momentum=0.1, affine=False, track_running_stats=False)\n",
      "      (activation): ReLU(inplace=True)\n",
      "    )\n",
      "    (3): UpsampleBlock(\n",
      "      (up): Sequential(\n",
      "        (0): Upsample(scale_factor=2.0, mode='bilinear')\n",
      "        (1): Conv2d(128, 32, kernel_size=(3, 3), stride=(1, 1), padding=(1, 1), bias=False)\n",
      "      )\n",
      "      (norm): InstanceNorm2d(32, eps=1e-05, momentum=0.1, affine=False, track_running_stats=False)\n",
      "      (activation): ReLU(inplace=True)\n",
      "    )\n",
      "  )\n",
      "  (merge_convs): ModuleList(\n",
      "    (0): Conv2d(768, 512, kernel_size=(1, 1), stride=(1, 1))\n",
      "    (1): Conv2d(384, 256, kernel_size=(1, 1), stride=(1, 1))\n",
      "    (2): Conv2d(192, 128, kernel_size=(1, 1), stride=(1, 1))\n",
      "    (3): Conv2d(96, 64, kernel_size=(1, 1), stride=(1, 1))\n",
      "  )\n",
      "  (final_conv): Sequential(\n",
      "    (0): Conv2d(64, 3, kernel_size=(3, 3), stride=(1, 1), padding=(1, 1))\n",
      "    (1): Tanh()\n",
      "  )\n",
      ")\n",
      "PatchDiscriminator(\n",
      "  (main): Sequential(\n",
      "    (0): Conv2d(20, 64, kernel_size=(4, 4), stride=(2, 2), padding=(1, 1))\n",
      "    (1): LeakyReLU(negative_slope=0.2, inplace=True)\n",
      "    (2): Conv2d(64, 128, kernel_size=(4, 4), stride=(2, 2), padding=(1, 1), bias=False)\n",
      "    (3): InstanceNorm2d(128, eps=1e-05, momentum=0.1, affine=False, track_running_stats=False)\n",
      "    (4): LeakyReLU(negative_slope=0.2, inplace=True)\n",
      "    (5): Conv2d(128, 256, kernel_size=(4, 4), stride=(2, 2), padding=(1, 1), bias=False)\n",
      "    (6): InstanceNorm2d(256, eps=1e-05, momentum=0.1, affine=False, track_running_stats=False)\n",
      "    (7): LeakyReLU(negative_slope=0.2, inplace=True)\n",
      "    (8): Conv2d(256, 512, kernel_size=(4, 4), stride=(2, 2), padding=(1, 1), bias=False)\n",
      "    (9): InstanceNorm2d(512, eps=1e-05, momentum=0.1, affine=False, track_running_stats=False)\n",
      "    (10): LeakyReLU(negative_slope=0.2, inplace=True)\n",
      "    (11): Conv2d(512, 1024, kernel_size=(4, 4), stride=(1, 1), padding=(1, 1), bias=False)\n",
      "    (12): InstanceNorm2d(1024, eps=1e-05, momentum=0.1, affine=False, track_running_stats=False)\n",
      "    (13): LeakyReLU(negative_slope=0.2, inplace=True)\n",
      "    (14): Conv2d(1024, 1, kernel_size=(4, 4), stride=(1, 1), padding=(1, 1))\n",
      "  )\n",
      ")\n"
     ]
    }
   ],
   "source": [
    "pose_ch = train_ds[0]['src_pose'].shape[0]\n",
    "netG = DeformableGenerator(in_ch=3, pose_ch=pose_ch).to(device)\n",
    "netD = PatchDiscriminator(in_ch_img=3, pose_ch=pose_ch).to(device)\n",
    "\n",
    "print(netG)\n",
    "print(netD)"
   ]
  },
  {
   "cell_type": "code",
   "execution_count": 6,
   "id": "6ac75e70",
   "metadata": {},
   "outputs": [
    {
     "name": "stderr",
     "output_type": "stream",
     "text": [
      "/tmp/ipykernel_1103730/334369987.py:1: FutureWarning: You are using `torch.load` with `weights_only=False` (the current default value), which uses the default pickle module implicitly. It is possible to construct malicious pickle data which will execute arbitrary code during unpickling (See https://github.com/pytorch/pytorch/blob/main/SECURITY.md#untrusted-models for more details). In a future release, the default value for `weights_only` will be flipped to `True`. This limits the functions that could be executed during unpickling. Arbitrary objects will no longer be allowed to be loaded via this mode unless they are explicitly allowlisted by the user via `torch.serialization.add_safe_globals`. We recommend you start setting `weights_only=True` for any use case where you don't have full control of the loaded file. Please open an issue on GitHub for any issues related to this experimental feature.\n",
      "  ckpt = torch.load(\"outputs/ckpts/checkpoint_latest.pth\")\n"
     ]
    },
    {
     "data": {
      "text/plain": [
       "<All keys matched successfully>"
      ]
     },
     "execution_count": 6,
     "metadata": {},
     "output_type": "execute_result"
    }
   ],
   "source": [
    "ckpt = torch.load(\"outputs/ckpts/checkpoint_latest.pth\")\n",
    "netG.load_state_dict(ckpt['netG'])\n",
    "netD.load_state_dict(ckpt['netD'])"
   ]
  },
  {
   "cell_type": "code",
   "execution_count": null,
   "id": "0409f86a",
   "metadata": {},
   "outputs": [],
   "source": [
    "train_model(\n",
    "    netG, netD,\n",
    "    train_loader, val_loader,\n",
    "    device=device,\n",
    "    num_epochs=10,\n",
    "    lr=lr/3,\n",
    "    betas=betas,\n",
    "    lambda_nn=lambda_nn,\n",
    "    lambda_p=lambda_perceptual,\n",
    "    lambda_off=lambda_offset,\n",
    "    use_perceptual=use_perceptual,\n",
    "    checkpoint_dir=ckpt_dir,\n",
    "    sample_dir=sample_dir,\n",
    "    num_gen_updates=2\n",
    ")"
   ]
  },
  {
   "cell_type": "code",
   "execution_count": 12,
   "id": "5100b4d0",
   "metadata": {},
   "outputs": [
    {
     "name": "stdout",
     "output_type": "stream",
     "text": [
      "Saved checkpoint: outputs/ckpts/checkpoint_latest.pth\n"
     ]
    }
   ],
   "source": [
    "from utils.checkpoint import save_checkpoint \n",
    "checkpoint_dir=\"outputs/ckpts\"\n",
    "\n",
    "ckpt = {\n",
    "            'epoch': 7,\n",
    "            'netG': netG.state_dict(),\n",
    "            'netD': netD.state_dict(),\n",
    "            'optimG': \"\",\n",
    "            'optimD': \"\",\n",
    "        }\n",
    "\n",
    "save_checkpoint(ckpt, checkpoint_dir, filename=\"checkpoint_latest.pth\")"
   ]
  },
  {
   "cell_type": "code",
   "execution_count": 15,
   "id": "474382e7",
   "metadata": {},
   "outputs": [
    {
     "name": "stdout",
     "output_type": "stream",
     "text": [
      "Inference done; results saved to outputs/infer\n"
     ]
    }
   ],
   "source": [
    "infer_model(netG, test_loader, device=device, output_dir=infer_out_dir)"
   ]
  },
  {
   "cell_type": "code",
   "execution_count": null,
   "id": "1ce5b750",
   "metadata": {},
   "outputs": [],
   "source": []
  }
 ],
 "metadata": {
  "kernelspec": {
   "display_name": "pose-gans",
   "language": "python",
   "name": "python3"
  },
  "language_info": {
   "codemirror_mode": {
    "name": "ipython",
    "version": 3
   },
   "file_extension": ".py",
   "mimetype": "text/x-python",
   "name": "python",
   "nbconvert_exporter": "python",
   "pygments_lexer": "ipython3",
   "version": "3.8.20"
  }
 },
 "nbformat": 4,
 "nbformat_minor": 5
}
